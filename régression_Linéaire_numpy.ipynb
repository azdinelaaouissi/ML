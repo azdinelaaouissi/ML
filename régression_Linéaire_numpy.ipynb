{
  "nbformat": 4,
  "nbformat_minor": 0,
  "metadata": {
    "colab": {
      "provenance": [],
      "authorship_tag": "ABX9TyNiO1hpgrLmxJr553IuD5l7",
      "include_colab_link": true
    },
    "kernelspec": {
      "name": "python3",
      "display_name": "Python 3"
    },
    "language_info": {
      "name": "python"
    }
  },
  "cells": [
    {
      "cell_type": "markdown",
      "metadata": {
        "id": "view-in-github",
        "colab_type": "text"
      },
      "source": [
        "<a href=\"https://colab.research.google.com/github/azdinelaaouissi/ML/blob/main/r%C3%A9gression_Lin%C3%A9aire_numpy.ipynb\" target=\"_parent\"><img src=\"https://colab.research.google.com/assets/colab-badge.svg\" alt=\"Open In Colab\"/></a>"
      ]
    },
    {
      "cell_type": "markdown",
      "source": [
        "## Régression Linéaire Simple Numpy\n"
      ],
      "metadata": {
        "id": "RVqOI2vSFpOd"
      }
    },
    {
      "cell_type": "markdown",
      "source": [
        "===================\n",
        "\n",
        "---\n",
        "\n",
        "\n",
        "\n",
        "1.Importation des bibliothèques :\n",
        "import numpy as np: Importe la bibliothèque NumPy sous l'alias np, utilisée pour effectuer des opérations numériques.\n",
        "\n",
        "from sklearn.datasets import make_regression: Importe la fonction make_regression de scikit-learn pour générer des données synthétiques pour la régression linéaire.\n",
        "import matplotlib.pyplot as plt: Importe la bibliothèque Matplotlib pour la visualisation des données et des résultats.\n",
        "\n",
        "\n",
        "---\n",
        "\n",
        "\n",
        "2.Génération des données :\n",
        "\n",
        "np.random.seed(0): Fixe la graine aléatoire pour assurer la reproductibilité des résultats.\n",
        "x, y = make_regression(n_samples=100, n_features=1, noise=10): Génère des données synthétiques pour la régression linéaire avec 100 échantillons, 1 caractéristique, et un niveau de bruit de 10.\n",
        "plt.scatter(x, y): Affiche un nuage de points des données générées.\n",
        "\n",
        "\n",
        "---\n",
        "\n",
        "\n",
        "3.Préparation des données :\n",
        "\n",
        "y = y.reshape(y.shape[0], 1): Remodelle y pour avoir une dimension (100, 1).\n",
        "X = np.hstack((x, np.ones(x.shape))): Crée la matrice des caractéristiques X en ajoutant une colonne de 1 pour le terme constant.\n",
        "\n",
        "\n",
        "---\n",
        "\n",
        "\n",
        "4.Initialisation du modèle :\n",
        "\n",
        "np.random.seed(0): Fixe à nouveau la graine aléatoire pour assurer la reproductibilité.\n",
        "theta = np.random.randn(2, 1): Initialise aléatoirement les paramètres du modèle theta sous forme d'un vecteur 2x1.\n",
        "\n",
        "\n",
        "---\n",
        "\n",
        "\n",
        "5.Définition des fonctions :\n",
        "\n",
        "model(X, theta): Définit la fonction de prédiction du modèle linéaire.\n",
        "cost_function(X, y, theta): Calcule la fonction de coût (erreur quadratique moyenne).\n",
        "grad(X, y, theta): Calcule le gradient de la fonction de coût.\n",
        "gradient_descent(X, y, theta, learning_rate, n_iterations): Implémente la descente de gradient pour entraîner le modèle.\n",
        "\n",
        "\n",
        "---\n",
        "\n",
        "\n",
        "6.Entraînement du modèle :\n",
        "\n",
        "theta_final, cost_history = gradient_descent(X, y, theta, learning_rate, n_iterations): Applique la descente de gradient pour ajuster les paramètres theta du modèle.\n",
        "\n",
        "\n",
        "---\n",
        "\n",
        "\n",
        "7.Visualisation des résultats :\n",
        "\n",
        "predictions = model(X, theta_final): Effectue des prédictions avec les paramètres finaux theta_final.\n",
        "plt.scatter(x, y), plt.plot(x, predictions, c='r'): Affiche les données réelles et la droite de régression ajustée.\n",
        "coef_determination(y, model(X, theta_final)): Calcule le coefficient de détermination pour évaluer la performance du modèle."
      ],
      "metadata": {
        "id": "_bajsm3o94C3"
      }
    },
    {
      "cell_type": "code",
      "source": [
        "import  numpy   as  np\n",
        "from  sklearn.datasets  import  make_regression\n",
        "import matplotlib.pyplot as plt\n",
        ""
      ],
      "metadata": {
        "id": "gvq0GKXUFsnz"
      },
      "execution_count": 79,
      "outputs": []
    },
    {
      "cell_type": "markdown",
      "source": [
        "### 1.DataSet"
      ],
      "metadata": {
        "id": "oc92cTzBqR6o"
      }
    },
    {
      "cell_type": "code",
      "source": [
        "np.random.seed(0)\n",
        "x,y=make_regression(n_samples=100,n_features=1,noise=10)\n",
        "plt.scatter(x, y)"
      ],
      "metadata": {
        "id": "0h-ujjlUGQ-K",
        "colab": {
          "base_uri": "https://localhost:8080/",
          "height": 448
        },
        "outputId": "ca18ce29-ece3-46ed-fda9-c9ba254bc08c"
      },
      "execution_count": 80,
      "outputs": [
        {
          "output_type": "execute_result",
          "data": {
            "text/plain": [
              "<matplotlib.collections.PathCollection at 0x7f4eba83a140>"
            ]
          },
          "metadata": {},
          "execution_count": 80
        },
        {
          "output_type": "display_data",
          "data": {
            "text/plain": [
              "<Figure size 640x480 with 1 Axes>"
            ],
            "image/png": "[encoded data removed]"
          },
          "metadata": {}
        }
      ]
    },
    {
      "cell_type": "code",
      "source": [
        "np.random.seed(0)\n",
        "y=y.reshape(y.shape[0],1)\n",
        "x.shape"
      ],
      "metadata": {
        "id": "MI81ULuxar8A",
        "colab": {
          "base_uri": "https://localhost:8080/"
        },
        "outputId": "70b3ec10-be71-4704-f6f5-eec12def8f31"
      },
      "execution_count": 81,
      "outputs": [
        {
          "output_type": "execute_result",
          "data": {
            "text/plain": [
              "(100, 1)"
            ]
          },
          "metadata": {},
          "execution_count": 81
        }
      ]
    },
    {
      "cell_type": "code",
      "source": [
        "y.shape"
      ],
      "metadata": {
        "colab": {
          "base_uri": "https://localhost:8080/"
        },
        "id": "rIHcrxi4vGrn",
        "outputId": "b062681d-d166-4a2d-e8fa-d13af4b1789d"
      },
      "execution_count": 82,
      "outputs": [
        {
          "output_type": "execute_result",
          "data": {
            "text/plain": [
              "(100, 1)"
            ]
          },
          "metadata": {},
          "execution_count": 82
        }
      ]
    },
    {
      "cell_type": "code",
      "source": [
        "np.random.seed(0)\n",
        "y=y.reshape(y.shape[0],1)"
      ],
      "metadata": {
        "id": "w3HCgvCevHi3"
      },
      "execution_count": 83,
      "outputs": []
    },
    {
      "cell_type": "code",
      "source": [
        "y.shape"
      ],
      "metadata": {
        "colab": {
          "base_uri": "https://localhost:8080/"
        },
        "id": "AKrYx5oevZB2",
        "outputId": "2658179b-8795-4954-a4b9-a2c40748b590"
      },
      "execution_count": 84,
      "outputs": [
        {
          "output_type": "execute_result",
          "data": {
            "text/plain": [
              "(100, 1)"
            ]
          },
          "metadata": {},
          "execution_count": 84
        }
      ]
    },
    {
      "cell_type": "code",
      "source": [
        "X=np.hstack((x,np.ones(x.shape)))"
      ],
      "metadata": {
        "id": "NxwHIB-SvZWg"
      },
      "execution_count": 85,
      "outputs": []
    },
    {
      "cell_type": "code",
      "source": [
        "X.shape"
      ],
      "metadata": {
        "colab": {
          "base_uri": "https://localhost:8080/"
        },
        "id": "Tv890MUU1C8d",
        "outputId": "01b3c404-b749-448b-e723-246168b8374a"
      },
      "execution_count": 86,
      "outputs": [
        {
          "output_type": "execute_result",
          "data": {
            "text/plain": [
              "(100, 2)"
            ]
          },
          "metadata": {},
          "execution_count": 86
        }
      ]
    },
    {
      "cell_type": "code",
      "source": [
        "np.random.seed(0) # pour produire toujours le meme vecteur theta aléatoire\n",
        "theta = np.random.randn(2, 1)\n",
        "theta"
      ],
      "metadata": {
        "colab": {
          "base_uri": "https://localhost:8080/"
        },
        "id": "jls_JmSJ1NiM",
        "outputId": "dcdb2ead-d100-4a57-8c8e-961233c5d193"
      },
      "execution_count": 87,
      "outputs": [
        {
          "output_type": "execute_result",
          "data": {
            "text/plain": [
              "array([[1.76405235],\n",
              "       [0.40015721]])"
            ]
          },
          "metadata": {},
          "execution_count": 87
        }
      ]
    },
    {
      "cell_type": "markdown",
      "source": [
        "### 2. Modele Linéaire"
      ],
      "metadata": {
        "id": "udYqmnC-18-4"
      }
    },
    {
      "cell_type": "code",
      "source": [
        "def  model(X,theta):\n",
        "  return  X.dot(theta)\n",
        ""
      ],
      "metadata": {
        "id": "iH4UxRRP2GZe"
      },
      "execution_count": 88,
      "outputs": []
    },
    {
      "cell_type": "code",
      "source": [
        "plt.scatter(x, y)\n",
        "plt.plot(x, model(X, theta), c='r')"
      ],
      "metadata": {
        "colab": {
          "base_uri": "https://localhost:8080/",
          "height": 448
        },
        "id": "UuygPgki2VM2",
        "outputId": "6358a304-7d1c-4912-bd98-767f30993e43"
      },
      "execution_count": 89,
      "outputs": [
        {
          "output_type": "execute_result",
          "data": {
            "text/plain": [
              "[<matplotlib.lines.Line2D at 0x7f4eba8b6590>]"
            ]
          },
          "metadata": {},
          "execution_count": 89
        },
        {
          "output_type": "display_data",
          "data": {
            "text/plain": [
              "<Figure size 640x480 with 1 Axes>"
            ],
            "image/png": "[encoded data removed]"
          },
          "metadata": {}
        }
      ]
    },
    {
      "cell_type": "markdown",
      "source": [
        "### 3. Fonction Cout : Erreur Quadratique moyenne"
      ],
      "metadata": {
        "id": "2ohNM01U2aS6"
      }
    },
    {
      "cell_type": "code",
      "source": [
        "def cost_function(X, y, theta):\n",
        "    m = len(y)\n",
        "    return 1/(2*m) * np.sum((model(X, theta) - y)**2)"
      ],
      "metadata": {
        "id": "dNuRpXb227ms"
      },
      "execution_count": 90,
      "outputs": []
    },
    {
      "cell_type": "code",
      "source": [
        "cost_function(X,y,theta)"
      ],
      "metadata": {
        "colab": {
          "base_uri": "https://localhost:8080/"
        },
        "id": "B6bu4yOU3DIB",
        "outputId": "11b1119b-1dde-4a69-ed92-fe1d7108d218"
      },
      "execution_count": 91,
      "outputs": [
        {
          "output_type": "execute_result",
          "data": {
            "text/plain": [
              "905.6306841935502"
            ]
          },
          "metadata": {},
          "execution_count": 91
        }
      ]
    },
    {
      "cell_type": "markdown",
      "source": [
        "### 4. Gradients et Descente de Gradient"
      ],
      "metadata": {
        "id": "qslMgd1i3GxU"
      }
    },
    {
      "cell_type": "code",
      "source": [
        "def grad(X, y, theta):\n",
        "    m = len(y)\n",
        "    return 1/m * X.T.dot(model(X, theta) - y)\n"
      ],
      "metadata": {
        "id": "PpKjU2m43Qt-"
      },
      "execution_count": 92,
      "outputs": []
    },
    {
      "cell_type": "code",
      "source": [
        "def gradient_descent(X, y, theta, learning_rate, n_iterations):\n",
        "\n",
        "    cost_history = np.zeros(n_iterations) # création d'un tableau de stockage pour enregistrer l'évolution du Cout du modele\n",
        "\n",
        "    for i in range(0, n_iterations):\n",
        "        theta = theta - learning_rate * grad(X, y, theta) # mise a jour du parametre theta (formule du gradient descent)\n",
        "        cost_history[i] = cost_function(X, y, theta) # on enregistre la valeur du Cout au tour i dans cost_history[i]\n",
        "\n",
        "    return theta, cost_history"
      ],
      "metadata": {
        "id": "LnXr78ai4D6z"
      },
      "execution_count": 93,
      "outputs": []
    },
    {
      "cell_type": "markdown",
      "source": [
        "### 5. Phase d'entrainement"
      ],
      "metadata": {
        "id": "UnXI0VsY4QsK"
      }
    },
    {
      "cell_type": "code",
      "source": [
        "n_iterations = 1000\n",
        "learning_rate = 0.01\n",
        "theta_final, cost_history = gradient_descent(X, y, theta, learning_rate, n_iterations)"
      ],
      "metadata": {
        "id": "EZ4tuql24VUn"
      },
      "execution_count": 94,
      "outputs": []
    },
    {
      "cell_type": "code",
      "source": [
        "theta_final"
      ],
      "metadata": {
        "colab": {
          "base_uri": "https://localhost:8080/"
        },
        "id": "CsDV1h9W4bW9",
        "outputId": "bd038287-948f-4e1c-a248-8f47fec72b3b"
      },
      "execution_count": 95,
      "outputs": [
        {
          "output_type": "execute_result",
          "data": {
            "text/plain": [
              "array([[42.61765864],\n",
              "       [-0.81309274]])"
            ]
          },
          "metadata": {},
          "execution_count": 95
        }
      ]
    },
    {
      "cell_type": "code",
      "source": [
        "predictions = model(X, theta_final)\n",
        "plt.scatter(x, y)\n",
        "plt.plot(x, predictions, c='r')"
      ],
      "metadata": {
        "colab": {
          "base_uri": "https://localhost:8080/",
          "height": 448
        },
        "id": "NB1bGIqf4eWX",
        "outputId": "016150f3-54e9-4ec4-a922-8fb824cda3c0"
      },
      "execution_count": 96,
      "outputs": [
        {
          "output_type": "execute_result",
          "data": {
            "text/plain": [
              "[<matplotlib.lines.Line2D at 0x7f4eba7263e0>]"
            ]
          },
          "metadata": {},
          "execution_count": 96
        },
        {
          "output_type": "display_data",
          "data": {
            "text/plain": [
              "<Figure size 640x480 with 1 Axes>"
            ],
            "image/png": "[encoded data removed]"
          },
          "metadata": {}
        }
      ]
    },
    {
      "cell_type": "code",
      "source": [
        "def coef_determination(y, pred):\n",
        "    u = ((y - pred)**2).sum()\n",
        "    v = ((y - y.mean())**2).sum()\n",
        "    return 1 - u/v\n",
        ""
      ],
      "metadata": {
        "id": "UY7EYNas4nrx"
      },
      "execution_count": 97,
      "outputs": []
    },
    {
      "cell_type": "code",
      "source": [
        "coef_determination(y,model(X,theta_final))"
      ],
      "metadata": {
        "colab": {
          "base_uri": "https://localhost:8080/"
        },
        "id": "lwW9j2O05Pzi",
        "outputId": "b458bbfc-7e3f-4165-91f1-efe246c00787"
      },
      "execution_count": 99,
      "outputs": [
        {
          "output_type": "execute_result",
          "data": {
            "text/plain": [
              "0.9417294706504984"
            ]
          },
          "metadata": {},
          "execution_count": 99
        }
      ]
    },
    {
      "cell_type": "code",
      "source": [
        "import numpy as np\n",
        "import matplotlib.pyplot as plt\n",
        "from sklearn.linear_model import LinearRegression\n",
        "from sklearn.datasets import make_regression\n",
        "\n",
        "# Génération de données synthétiques pour la régression linéaire\n",
        "X, y = make_regression(n_samples=100, n_features=1, noise=10, random_state=0)\n",
        "\n",
        "# Initialisation et entraînement du modèle de régression linéaire\n",
        "model = LinearRegression()\n",
        "model.fit(X, y)\n",
        "\n",
        "# Affichage des résultats\n",
        "plt.scatter(X, y, label='Données réelles')\n",
        "plt.plot(X, model.predict(X), color='red', label='Régression linéaire')\n",
        "plt.xlabel('X')\n",
        "plt.ylabel('Y')\n",
        "plt.title('Régression linéaire avec scikit-learn')\n",
        "plt.legend()\n",
        "plt.show()\n",
        "\n",
        "# Coefficient de détermination (R²)\n",
        "r_squared = model.score(X, y)\n",
        "print(f\"Coefficient de détermination (R²) : {r_squared}\")\n"
      ],
      "metadata": {
        "colab": {
          "base_uri": "https://localhost:8080/",
          "height": 490
        },
        "id": "MzSsWbB99Y2J",
        "outputId": "5471c747-b006-4240-8cb1-300355e073d2"
      },
      "execution_count": 100,
      "outputs": [
        {
          "output_type": "display_data",
          "data": {
            "text/plain": [
              "<Figure size 640x480 with 1 Axes>"
            ],
            "image/png": "[encoded data removed]"
          },
          "metadata": {}
        },
        {
          "output_type": "stream",
          "name": "stdout",
          "text": [
            "Coefficient de détermination (R²) : 0.9417294727711081\n"
          ]
        }
      ]
    },
    {
      "cell_type": "code",
      "source": [],
      "metadata": {
        "id": "Wdt3aGeg9ZGz"
      },
      "execution_count": null,
      "outputs": []
    }
  ]
}